{
  "nbformat": 4,
  "nbformat_minor": 0,
  "metadata": {
    "colab": {
      "provenance": []
    },
    "kernelspec": {
      "name": "python3",
      "display_name": "Python 3"
    },
    "language_info": {
      "name": "python"
    }
  },
  "cells": [
    {
      "cell_type": "markdown",
      "source": [
        "###Imports###\n"
      ],
      "metadata": {
        "id": "qjQj9aEyMqDs"
      }
    },
    {
      "cell_type": "code",
      "execution_count": 292,
      "metadata": {
        "id": "nd5EYO830L1w"
      },
      "outputs": [],
      "source": [
        "import pandas as pd\n",
        "import numpy as np\n",
        "import matplotlib.pyplot as plt"
      ]
    },
    {
      "cell_type": "markdown",
      "source": [
        "###Data gathering###"
      ],
      "metadata": {
        "id": "QHvxJLSfMrp0"
      }
    },
    {
      "cell_type": "code",
      "source": [
        "sz_1 = pd.read_csv(\"https://raw.githubusercontent.com/CliffordTheBigRedCoder/CNNP/main/Seizures/sz_1.csv\", header = None)\n",
        "sz_2 = pd.read_csv(\"https://raw.githubusercontent.com/CliffordTheBigRedCoder/CNNP/main/Seizures/sz_2.csv\", header = None)\n",
        "sz_3 = pd.read_csv(\"https://raw.githubusercontent.com/CliffordTheBigRedCoder/CNNP/main/Seizures/sz_3.csv\", header = None)\n",
        "sz_4 = pd.read_csv(\"https://raw.githubusercontent.com/CliffordTheBigRedCoder/CNNP/main/Seizures/sz_4.csv\", header = None)\n",
        "sz_5 = pd.read_csv(\"https://raw.githubusercontent.com/CliffordTheBigRedCoder/CNNP/main/Seizures/sz_5.csv\", header = None)\n",
        "sz_6 = pd.read_csv(\"https://raw.githubusercontent.com/CliffordTheBigRedCoder/CNNP/main/Seizures/sz_6.csv\", header = None)\n",
        "sz_7 = pd.read_csv(\"https://raw.githubusercontent.com/CliffordTheBigRedCoder/CNNP/main/Seizures/sz_7.csv\", header = None)\n",
        "sz_8 = pd.read_csv(\"https://raw.githubusercontent.com/CliffordTheBigRedCoder/CNNP/main/Seizures/sz_8.csv\", header = None)\n",
        "sz_9 = pd.read_csv(\"https://raw.githubusercontent.com/CliffordTheBigRedCoder/CNNP/main/Seizures/sz_9.csv\", header = None)\n",
        "sz_10 = pd.read_csv(\"https://raw.githubusercontent.com/CliffordTheBigRedCoder/CNNP/main/Seizures/sz_10.csv\", header = None)\n",
        "sz_11 = pd.read_csv(\"https://raw.githubusercontent.com/CliffordTheBigRedCoder/CNNP/main/Seizures/sz_11.csv\", header = None)\n",
        "sz_timings = pd.read_csv(\"https://raw.githubusercontent.com/CliffordTheBigRedCoder/CNNP/main/Seizures/sz_timing.csv\", header = None)"
      ],
      "metadata": {
        "id": "S1Sf7qn7Mp3Y"
      },
      "execution_count": 293,
      "outputs": []
    },
    {
      "cell_type": "markdown",
      "source": [
        "###Early Data analysis###"
      ],
      "metadata": {
        "id": "xqtYqTY4Odn8"
      }
    },
    {
      "cell_type": "code",
      "source": [
        "print(\"rows in sz_1:\", len(sz_1.index))\n",
        "print(\"columns in sz_1:\", len(sz_1.columns))"
      ],
      "metadata": {
        "colab": {
          "base_uri": "https://localhost:8080/"
        },
        "id": "ea2utBG8On71",
        "outputId": "64a29370-8a1a-4723-c712-c73619c03e74"
      },
      "execution_count": 294,
      "outputs": [
        {
          "output_type": "stream",
          "name": "stdout",
          "text": [
            "rows in sz_1: 29\n",
            "columns in sz_1: 38656\n"
          ]
        }
      ]
    },
    {
      "cell_type": "code",
      "source": [
        "sz_1_pre = sz_1.iloc[:,:15360] #15360 is 120 seconds at 128 polls per second\n",
        "sz_1_post = sz_1.iloc[:,15360:] #note the seizure isn't present for this entire period \"post\" is also being used to refer to post the starting point of the seizure\n",
        "print(\"columns in sz_1_pre:\", len(sz_1_pre.columns))\n",
        "print(\"columns in sz_1_post:\", len(sz_1_post.columns))"
      ],
      "metadata": {
        "colab": {
          "base_uri": "https://localhost:8080/"
        },
        "id": "GqtYuE1ZQdPn",
        "outputId": "a5bb693b-8efa-4451-de4d-cb4c24857c39"
      },
      "execution_count": 295,
      "outputs": [
        {
          "output_type": "stream",
          "name": "stdout",
          "text": [
            "columns in sz_1_pre: 15360\n",
            "columns in sz_1_post: 23296\n"
          ]
        }
      ]
    },
    {
      "cell_type": "code",
      "source": [
        "print(\"standard deviation of entire pre data: \\n\", sz_1_pre.std(axis = 1))\n",
        "print(\"standard deviation of entire post data: \\n\", sz_1_post.std(axis = 1))"
      ],
      "metadata": {
        "colab": {
          "base_uri": "https://localhost:8080/"
        },
        "id": "266Bopx_P1Ob",
        "outputId": "feaa4621-27a9-4ec5-a373-9b0bac7cb3bf"
      },
      "execution_count": 296,
      "outputs": [
        {
          "output_type": "stream",
          "name": "stdout",
          "text": [
            "standard deviation of entire pre data: \n",
            " 0      61.593456\n",
            "1     137.514718\n",
            "2      46.077710\n",
            "3     134.772011\n",
            "4     136.737482\n",
            "5      66.224626\n",
            "6     100.589774\n",
            "7      59.729648\n",
            "8      71.617643\n",
            "9      68.188918\n",
            "10    114.398115\n",
            "11     81.291758\n",
            "12     70.488319\n",
            "13     64.253314\n",
            "14     89.214046\n",
            "15     71.668331\n",
            "16     56.692954\n",
            "17     31.881829\n",
            "18     62.051294\n",
            "19     53.034930\n",
            "20     32.737765\n",
            "21     85.064434\n",
            "22     46.375220\n",
            "23     37.731291\n",
            "24     84.657897\n",
            "25    101.571742\n",
            "26    101.968577\n",
            "27    123.210956\n",
            "28    116.222738\n",
            "dtype: float64\n",
            "standard deviation of entire post data: \n",
            " 0      65.233402\n",
            "1     143.677256\n",
            "2      50.710175\n",
            "3     154.573881\n",
            "4     148.859456\n",
            "5      66.225333\n",
            "6     123.373435\n",
            "7      95.258319\n",
            "8      94.692338\n",
            "9      72.513741\n",
            "10    107.892329\n",
            "11    109.495868\n",
            "12    165.289387\n",
            "13     75.469086\n",
            "14     98.642488\n",
            "15     76.026063\n",
            "16    114.931399\n",
            "17     37.308647\n",
            "18     72.571645\n",
            "19     67.222890\n",
            "20     39.764819\n",
            "21     95.281107\n",
            "22     47.888178\n",
            "23     44.098579\n",
            "24     89.060857\n",
            "25    105.801831\n",
            "26    119.091265\n",
            "27    124.837916\n",
            "28    119.839629\n",
            "dtype: float64\n"
          ]
        }
      ]
    },
    {
      "cell_type": "markdown",
      "source": [
        "###Specific standard deviation analysis###"
      ],
      "metadata": {
        "id": "RUui9KQ6YjPm"
      }
    },
    {
      "cell_type": "code",
      "source": [
        "#Code to find the standard deviation over a second for each second in a dataframe given a second is 128 columns\n",
        "def std_second(sz):\n",
        "  std = []\n",
        "  for i in range(0, len(sz.index)):\n",
        "    row_std = []\n",
        "    for x in range(0, len(sz.columns)//128):\n",
        "      start = x*128\n",
        "      temp_std = sz.iloc[[i],start:start+128].std(axis=1)\n",
        "      row_std.append(temp_std.iloc[0])\n",
        "    std.append(row_std)\n",
        "  return(std)"
      ],
      "metadata": {
        "id": "eTph-7YkYn5_"
      },
      "execution_count": 297,
      "outputs": []
    },
    {
      "cell_type": "code",
      "source": [
        "sz_1_pre_std = std_second(sz_1_pre)\n",
        "sz_1_post_std = std_second(sz_1_post)"
      ],
      "metadata": {
        "id": "rQGC39oMZ70X"
      },
      "execution_count": 298,
      "outputs": []
    },
    {
      "cell_type": "code",
      "source": [
        "print(\"90th percentile standard deviation in metric 0 pre seizure is:\",np.percentile(sz_1_pre_std[0],90))\n",
        "print(\"90th percentile standard deviation in metric 0 post seizure is:\",np.percentile(sz_1_post_std[0],90))"
      ],
      "metadata": {
        "colab": {
          "base_uri": "https://localhost:8080/"
        },
        "id": "3vJOp14faikY",
        "outputId": "79c064dd-86d9-4b09-b233-f320e2e18d3d"
      },
      "execution_count": 299,
      "outputs": [
        {
          "output_type": "stream",
          "name": "stdout",
          "text": [
            "90th percentile standard deviation in metric 0 pre seizure is: 85.03997836194512\n",
            "90th percentile standard deviation in metric 0 post seizure is: 89.8488590588509\n"
          ]
        }
      ]
    },
    {
      "cell_type": "code",
      "source": [
        "#Finds outliers / channels involved in the seizure assuming if the 90th percentile \n",
        "#of the post/during seizure standard deviation is higher than the highest pre-seizure distribution it is involved\n",
        "def std_outliers(std_pre, std_post):\n",
        "  if len(std_pre) != len(std_post):\n",
        "    print(\"Error differing amount of rows in pre/post\")\n",
        "  outliers = []\n",
        "  for i in range(0,len(std_pre)):\n",
        "    #if max(std_post[i]) > np.percentile(sz_1_pre_std[i],90):\n",
        "      #outliers.append(i)\n",
        "    if max(std_pre[i]) < np.percentile(sz_1_post_std[i],90):\n",
        "      outliers.append(i)\n",
        "  return outliers"
      ],
      "metadata": {
        "id": "-VKIeUCPc2vA"
      },
      "execution_count": 300,
      "outputs": []
    },
    {
      "cell_type": "code",
      "source": [
        "sz_1_outliers = std_outliers(sz_1_pre_std, sz_1_post_std)\n",
        "print(\"The involved channels in seizure 1 are:\",sz_1_outliers)"
      ],
      "metadata": {
        "colab": {
          "base_uri": "https://localhost:8080/"
        },
        "id": "VGYORh2OeeGs",
        "outputId": "45c096c5-43cf-4730-eb3a-3f13bc9f9287"
      },
      "execution_count": 301,
      "outputs": [
        {
          "output_type": "stream",
          "name": "stdout",
          "text": [
            "The involved channels in seizure 1 are: [7, 11, 12, 16]\n"
          ]
        }
      ]
    },
    {
      "cell_type": "code",
      "source": [
        "sz_1_pre_max = []\n",
        "sz_1_post_percentile = []\n",
        "for i in range(0,len(sz_1_pre_std)):\n",
        "  sz_1_pre_max.append(max(sz_1_pre_std[i]))\n",
        "  sz_1_post_percentile.append(np.percentile(sz_1_post_std[i],90))\n",
        "  print(\"Metric\",i, \"\\nPre-seizure max std:\",max(sz_1_pre_std[i]),\"\\nPost-seizure 90th percentile std:\",np.percentile(sz_1_post_std[i],90))"
      ],
      "metadata": {
        "colab": {
          "base_uri": "https://localhost:8080/"
        },
        "id": "xHnWg6QxhI5-",
        "outputId": "960e910b-9247-4994-824a-e70b17c14c97"
      },
      "execution_count": 302,
      "outputs": [
        {
          "output_type": "stream",
          "name": "stdout",
          "text": [
            "Metric 0 \n",
            "Pre-seizure max std: 126.49053712147156 \n",
            "Post-seizure 90th percentile std: 89.8488590588509\n",
            "Metric 1 \n",
            "Pre-seizure max std: 243.92726685600053 \n",
            "Post-seizure 90th percentile std: 197.6274164833844\n",
            "Metric 2 \n",
            "Pre-seizure max std: 95.6396388882669 \n",
            "Post-seizure 90th percentile std: 73.42659357998593\n",
            "Metric 3 \n",
            "Pre-seizure max std: 306.1224499328889 \n",
            "Post-seizure 90th percentile std: 201.24827986872188\n",
            "Metric 4 \n",
            "Pre-seizure max std: 223.238918982078 \n",
            "Post-seizure 90th percentile std: 197.3412895150202\n",
            "Metric 5 \n",
            "Pre-seizure max std: 144.90792757510698 \n",
            "Post-seizure 90th percentile std: 91.23529948086683\n",
            "Metric 6 \n",
            "Pre-seizure max std: 197.38273316226386 \n",
            "Post-seizure 90th percentile std: 171.5846650971869\n",
            "Metric 7 \n",
            "Pre-seizure max std: 118.02152351940582 \n",
            "Post-seizure 90th percentile std: 131.45818783667153\n",
            "Metric 8 \n",
            "Pre-seizure max std: 134.4492000046943 \n",
            "Post-seizure 90th percentile std: 119.79097418578476\n",
            "Metric 9 \n",
            "Pre-seizure max std: 113.9070451315923 \n",
            "Post-seizure 90th percentile std: 94.34895567010409\n",
            "Metric 10 \n",
            "Pre-seizure max std: 179.92888348536087 \n",
            "Post-seizure 90th percentile std: 135.92306453521337\n",
            "Metric 11 \n",
            "Pre-seizure max std: 137.9988000913078 \n",
            "Post-seizure 90th percentile std: 158.89845448333477\n",
            "Metric 12 \n",
            "Pre-seizure max std: 127.2996508491207 \n",
            "Post-seizure 90th percentile std: 231.34786521764102\n",
            "Metric 13 \n",
            "Pre-seizure max std: 143.6677193900829 \n",
            "Post-seizure 90th percentile std: 104.32572890675938\n",
            "Metric 14 \n",
            "Pre-seizure max std: 272.1171918562956 \n",
            "Post-seizure 90th percentile std: 146.61834149691296\n",
            "Metric 15 \n",
            "Pre-seizure max std: 164.66958921687805 \n",
            "Post-seizure 90th percentile std: 105.4549212000195\n",
            "Metric 16 \n",
            "Pre-seizure max std: 138.4689840698016 \n",
            "Post-seizure 90th percentile std: 171.26513866008966\n",
            "Metric 17 \n",
            "Pre-seizure max std: 102.13452097960344 \n",
            "Post-seizure 90th percentile std: 53.08945689744744\n",
            "Metric 18 \n",
            "Pre-seizure max std: 150.3771714758278 \n",
            "Post-seizure 90th percentile std: 106.97202390931153\n",
            "Metric 19 \n",
            "Pre-seizure max std: 129.8164336732593 \n",
            "Post-seizure 90th percentile std: 91.69778752444752\n",
            "Metric 20 \n",
            "Pre-seizure max std: 73.44922488762312 \n",
            "Post-seizure 90th percentile std: 51.19143364514044\n",
            "Metric 21 \n",
            "Pre-seizure max std: 157.81970538485496 \n",
            "Post-seizure 90th percentile std: 123.0509008201477\n",
            "Metric 22 \n",
            "Pre-seizure max std: 76.11100172147427 \n",
            "Post-seizure 90th percentile std: 63.50221971216547\n",
            "Metric 23 \n",
            "Pre-seizure max std: 90.23822439872137 \n",
            "Post-seizure 90th percentile std: 60.25707914284249\n",
            "Metric 24 \n",
            "Pre-seizure max std: 213.43282774003205 \n",
            "Post-seizure 90th percentile std: 122.08582139174136\n",
            "Metric 25 \n",
            "Pre-seizure max std: 167.87309923672606 \n",
            "Post-seizure 90th percentile std: 138.71455746132867\n",
            "Metric 26 \n",
            "Pre-seizure max std: 316.6077352171125 \n",
            "Post-seizure 90th percentile std: 189.09752750136911\n",
            "Metric 27 \n",
            "Pre-seizure max std: 248.51638140461682 \n",
            "Post-seizure 90th percentile std: 162.3838163827452\n",
            "Metric 28 \n",
            "Pre-seizure max std: 215.25340577122782 \n",
            "Post-seizure 90th percentile std: 164.63791732570388\n"
          ]
        }
      ]
    },
    {
      "cell_type": "markdown",
      "source": [
        "###Performing same operations for the other seizures###"
      ],
      "metadata": {
        "id": "4CSBWk7fhmyI"
      }
    },
    {
      "cell_type": "code",
      "source": [
        "sz_2_pre = sz_2.iloc[:,:15360]\n",
        "sz_2_post = sz_2.iloc[:,15360:]\n",
        "sz_3_pre = sz_3.iloc[:,:15360]\n",
        "sz_3_post = sz_3.iloc[:,15360:]\n",
        "sz_4_pre = sz_4.iloc[:,:15360]\n",
        "sz_4_post = sz_4.iloc[:,15360:]\n",
        "sz_5_pre = sz_5.iloc[:,:15360]\n",
        "sz_5_post = sz_5.iloc[:,15360:]\n",
        "sz_6_pre = sz_6.iloc[:,:15360]\n",
        "sz_6_post = sz_6.iloc[:,15360:]\n",
        "sz_7_pre = sz_7.iloc[:,:15360]\n",
        "sz_7_post = sz_7.iloc[:,15360:]\n",
        "sz_8_pre = sz_8.iloc[:,:15360]\n",
        "sz_8_post = sz_8.iloc[:,15360:]\n",
        "sz_9_pre = sz_9.iloc[:,:15360]\n",
        "sz_9_post = sz_9.iloc[:,15360:]\n",
        "sz_10_pre = sz_10.iloc[:,:15360]\n",
        "sz_10_post = sz_10.iloc[:,15360:]\n",
        "sz_11_pre = sz_11.iloc[:,:15360]\n",
        "sz_11_post = sz_11.iloc[:,15360:]"
      ],
      "metadata": {
        "id": "WzVUo6VThqUX"
      },
      "execution_count": 303,
      "outputs": []
    },
    {
      "cell_type": "code",
      "source": [
        "sz_2_pre_std = std_second(sz_2_pre)\n",
        "sz_2_post_std = std_second(sz_2_post)\n",
        "sz_3_pre_std = std_second(sz_3_pre)\n",
        "sz_3_post_std = std_second(sz_3_post)\n",
        "sz_4_pre_std = std_second(sz_4_pre)\n",
        "sz_4_post_std = std_second(sz_4_post)\n",
        "sz_5_pre_std = std_second(sz_5_pre)\n",
        "sz_5_post_std = std_second(sz_5_post)\n",
        "sz_6_pre_std = std_second(sz_6_pre)\n",
        "sz_6_post_std = std_second(sz_6_post)\n",
        "sz_7_pre_std = std_second(sz_7_pre)\n",
        "sz_7_post_std = std_second(sz_7_post)\n",
        "sz_8_pre_std = std_second(sz_8_pre)\n",
        "sz_8_post_std = std_second(sz_8_post)\n",
        "sz_9_pre_std = std_second(sz_9_pre)\n",
        "sz_9_post_std = std_second(sz_9_post)\n",
        "sz_10_pre_std = std_second(sz_10_pre)\n",
        "sz_10_post_std = std_second(sz_10_post)\n",
        "sz_11_pre_std = std_second(sz_11_pre)\n",
        "sz_11_post_std = std_second(sz_11_post)"
      ],
      "metadata": {
        "id": "DTOqrzt0iGce"
      },
      "execution_count": 304,
      "outputs": []
    },
    {
      "cell_type": "code",
      "source": [
        "sz_2_outliers = std_outliers(sz_2_pre_std, sz_2_post_std)\n",
        "sz_3_outliers = std_outliers(sz_3_pre_std, sz_3_post_std)\n",
        "sz_4_outliers = std_outliers(sz_4_pre_std, sz_4_post_std)\n",
        "sz_5_outliers = std_outliers(sz_5_pre_std, sz_5_post_std)\n",
        "sz_6_outliers = std_outliers(sz_6_pre_std, sz_6_post_std)\n",
        "sz_7_outliers = std_outliers(sz_7_pre_std, sz_7_post_std)\n",
        "sz_8_outliers = std_outliers(sz_8_pre_std, sz_8_post_std)\n",
        "sz_9_outliers = std_outliers(sz_9_pre_std, sz_9_post_std)\n",
        "sz_10_outliers = std_outliers(sz_10_pre_std, sz_10_post_std)\n",
        "sz_11_outliers = std_outliers(sz_11_pre_std, sz_11_post_std)"
      ],
      "metadata": {
        "id": "VxnO5X1HmFIj"
      },
      "execution_count": 305,
      "outputs": []
    },
    {
      "cell_type": "code",
      "source": [
        "all_outliers = [sz_1_outliers, sz_2_outliers, sz_3_outliers, sz_4_outliers, \n",
        "                sz_5_outliers, sz_6_outliers, sz_7_outliers, sz_8_outliers, \n",
        "                sz_9_outliers, sz_10_outliers, sz_11_outliers]"
      ],
      "metadata": {
        "id": "nDMFACpSmKhP"
      },
      "execution_count": 306,
      "outputs": []
    },
    {
      "cell_type": "code",
      "source": [
        "all_outlier_count = []\n",
        "for i in all_outliers:\n",
        "  all_outlier_count.append(len(i))"
      ],
      "metadata": {
        "id": "LPdC40tPpZT_"
      },
      "execution_count": 307,
      "outputs": []
    },
    {
      "cell_type": "code",
      "source": [
        "a = [0]\n",
        "total_involvement = a*29\n",
        "for i in all_outliers:\n",
        "  for x in range(0,len(b)):\n",
        "    if x in i:\n",
        "      total_involvement[x]+=1\n",
        "\n",
        "for i in range(0,len(total_involvement)):\n",
        "  if total_involvement[i] == 11:\n",
        "    print(\"Channel\",i,\"has full involvement\")"
      ],
      "metadata": {
        "colab": {
          "base_uri": "https://localhost:8080/"
        },
        "id": "IU4YZ-7RK_0v",
        "outputId": "fbec9f17-fb93-47d2-e65d-1238301636b4"
      },
      "execution_count": 308,
      "outputs": [
        {
          "output_type": "stream",
          "name": "stdout",
          "text": [
            "Channel 7 has full involvement\n",
            "Channel 11 has full involvement\n",
            "Channel 12 has full involvement\n",
            "Channel 16 has full involvement\n"
          ]
        }
      ]
    },
    {
      "cell_type": "markdown",
      "source": [
        "###Visualising the Data###"
      ],
      "metadata": {
        "id": "D7sZsCqeq_tT"
      }
    },
    {
      "cell_type": "code",
      "source": [
        "sz_timings[0] = pd.to_datetime(sz_timings[0])\n",
        "sz_timings[0] = sz_timings[0].dt.strftime(\"%b %d %H:%M\")"
      ],
      "metadata": {
        "id": "pTpe6Z3zrpFP"
      },
      "execution_count": 309,
      "outputs": []
    },
    {
      "cell_type": "code",
      "source": [
        "px = 1/plt.rcParams['figure.dpi']\n",
        "fig = plt.figure(figsize=(960*px, 640*px))\n",
        "plt.plot(sz_timings[0], all_outlier_count, \"co-\")\n",
        "plt.ylabel(\"No. of involved channels (29 total)\", labelpad=10)\n",
        "plt.xlabel(\"Datetime of seizure\", labelpad=10)\n",
        "plt.xticks(rotation=45)\n",
        "plt.ylim(0,30)\n",
        "plt.title(\"Number of involved channels within seizures \"+\n",
        "          \"\\nsuffered from July 01 1900 to July 06 1900\")\n",
        "plt.savefig(\"Number of involved channels within seizures \"+\n",
        "            \"suffered from July 01 1900 to July 06 1900\")\n",
        "plt.show()"
      ],
      "metadata": {
        "colab": {
          "base_uri": "https://localhost:8080/",
          "height": 621
        },
        "id": "PnEdYz0ErbJ3",
        "outputId": "cf5c13bc-ac5d-422a-d5e1-de6e92797524"
      },
      "execution_count": 310,
      "outputs": [
        {
          "output_type": "display_data",
          "data": {
            "text/plain": [
              "<Figure size 960x640 with 1 Axes>"
            ],
            "image/png": "[encoded data removed]"
          },
          "metadata": {
            "needs_background": "light"
          }
        }
      ]
    },
    {
      "cell_type": "code",
      "source": [
        "px = 1/plt.rcParams['figure.dpi']\n",
        "fig, ax = plt.subplots(figsize=(1920*px, 1080*px))\n",
        "index = np.arange(29)\n",
        "bar_width = 0.3\n",
        "pre = ax.bar(index, sz_1_pre_max, bar_width, label = \"pre\")\n",
        "post = ax.bar(index+bar_width, sz_1_post_percentile, bar_width, label = \"during\")\n",
        "ax.set_xticks(index + bar_width / 2)\n",
        "ax.set_xticklabels(index, fontsize = 18)\n",
        "ax.set_yticklabels([0,50,100,150,200,250,300,350],fontsize = 18)\n",
        "ax.set_xlabel(\"Channel number\", fontsize = 22)\n",
        "ax.set_ylabel(\"Standard deviation\", fontsize = 22)\n",
        "ax.legend(fontsize = 18)\n",
        "plt.title(\"Channel standard deviations for seizure 1 with max for pre-seizure and 90th percentile for during seizure\", fontsize = 25)\n",
        "plt.savefig(\"Channel standard deviations for seizure 1 with max for pre-seizure and 90th percentile for during seizure\")\n",
        "plt.show()"
      ],
      "metadata": {
        "colab": {
          "base_uri": "https://localhost:8080/",
          "height": 920
        },
        "id": "FVaKrgx51IyG",
        "outputId": "6e5aebd5-1af9-4536-fb12-01dec2a7ea8e"
      },
      "execution_count": 311,
      "outputs": [
        {
          "output_type": "display_data",
          "data": {
            "text/plain": [
              "<Figure size 1920x1080 with 1 Axes>"
            ],
            "image/png": "[encoded data removed]"
          },
          "metadata": {
            "needs_background": "light"
          }
        }
      ]
    }
  ]
}